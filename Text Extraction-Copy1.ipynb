{
 "cells": [
  {
   "cell_type": "code",
   "execution_count": 3,
   "metadata": {},
   "outputs": [
    {
     "name": "stdout",
     "output_type": "stream",
     "text": [
      "Setup phase\n",
      "LEARN FROM \n",
      "YESTERDAY,‘\n",
      "LIVE FOR\n",
      "TODAY,\n",
      "HOPE FOR\n",
      "TOMORROW.\n",
      "Finished\n"
     ]
    }
   ],
   "source": [
    " # to get text in image\n",
    "from astropy.time import Time\n",
    "import glob\n",
    "import os\n",
    "import cv2\n",
    "import numpy as np\n",
    "import pytesseract\n",
    "from PIL import Image\n",
    "from pytesseract import image_to_string\n",
    "#pre-processing\n",
    "src_path = \"C:\\\\Users\\\\soukh\\\\2. OPENCV\"\n",
    "pytesseract.pytesseract.tesseract_cmd = r'C:\\Users\\soukh\\OneDrive\\Documents\\T\\Tesseract-OCR\\tesseract.exe'\n",
    "def get_string(src_path):\n",
    "    image = cv2.imread('quotes.png')\n",
    "    image = cv2.cvtColor(image, cv2.COLOR_BGR2GRAY)\n",
    "    kernel = np.ones((1, 1), np.uint8)\n",
    "            #removing noise\n",
    "    image = cv2.dilate(image, kernel, iterations=1)\n",
    "    image = cv2.erode(image, kernel, iterations=1)\n",
    "        # Write image after removed noise\n",
    "    cv2.imwrite(src_path + \"cleaned.png\", image)\n",
    "        #  Apply threshold to get image with only black and white\n",
    "    image = cv2.adaptiveThreshold(image, 255, cv2.ADAPTIVE_THRESH_GAUSSIAN_C, cv2.THRESH_BINARY, 31, 2)\n",
    "        # Write the image after apply opencv to do some ...\n",
    "    cv2.imwrite(src_path + \"thres.png\", image)\n",
    "        # Recognize text from image with tesseract for python\n",
    "    result = pytesseract.image_to_string(Image.open(src_path + \"thres.png\"))\n",
    "        # Remove template file\n",
    "    #os.remove(temp)\n",
    "\n",
    "    return result\n",
    "print('Setup phase')\n",
    "print(get_string(src_path + \"res.jpg\") )\n",
    "print(\"Finished\")"
   ]
  },
  {
   "cell_type": "code",
   "execution_count": 8,
   "metadata": {},
   "outputs": [
    {
     "name": "stdout",
     "output_type": "stream",
     "text": [
      "Setup phase\n",
      "LEARN FROM \n",
      "YESTERDAY,‘\n",
      "LIVE FOR\n",
      "TODAY,\n",
      "HOPE FOR\n",
      "TOMORROW.\n",
      "Finished\n",
      "574\n",
      "10\n",
      "21\n"
     ]
    },
    {
     "data": {
      "text/plain": [
       "int"
      ]
     },
     "execution_count": 8,
     "metadata": {},
     "output_type": "execute_result"
    }
   ],
   "source": [
    " # to get width, height & size of text in image\n",
    "from astropy.time import Time\n",
    "import glob\n",
    "import os\n",
    "import cv2\n",
    "import numpy as np\n",
    "import numpy as np\n",
    "import pytesseract\n",
    "from PIL import Image\n",
    "from pytesseract import image_to_string\n",
    "\n",
    "\n",
    "src_path = \"C:\\\\Users\\\\soukh\\\\2. OPENCV\"\n",
    "pytesseract.pytesseract.tesseract_cmd = r'C:\\Users\\soukh\\OneDrive\\Documents\\T\\Tesseract-OCR\\tesseract.exe'\n",
    "def get_string(src_path):\n",
    "    image = cv2.imread('quotes.png')\n",
    "    image = cv2.cvtColor(image, cv2.COLOR_BGR2GRAY)\n",
    "    kernel = np.ones((1, 1), np.uint8)\n",
    "    image = cv2.dilate(image, kernel, iterations=1)\n",
    "    image = cv2.erode(image, kernel, iterations=1)\n",
    "    cv2.imwrite(src_path + \"cleaned.png\", image)\n",
    "    image = cv2.adaptiveThreshold(image, 255, cv2.ADAPTIVE_THRESH_GAUSSIAN_C, cv2.THRESH_BINARY, 31, 2)\n",
    "    cv2.imwrite(src_path + \"thres.png\", image)\n",
    "    result = pytesseract.image_to_string(Image.open(src_path + \"thres.png\"))\n",
    "    #os.remove(temp)\n",
    "\n",
    "    return result\n",
    "print('Setup phase')\n",
    "print(get_string(src_path + \"res.jpg\") )\n",
    "print(\"Finished\")\n",
    "\n",
    "res=get_string(src_path)\n",
    "line=1\n",
    "image = cv2.imread('quotes.png')\n",
    "text=res\n",
    "def GetInfo(image, text, line):\n",
    "    font = cv2.FONT_HERSHEY_PLAIN\n",
    "    fontScale = 1\n",
    "    margin = 5\n",
    "    thickness = 2\n",
    "    color = (255, 255, 255)\n",
    "    size = cv2.getTextSize(text, font, fontScale, thickness)\n",
    "    textWidth = size[0][0]\n",
    "    textHeight = size[0][1]\n",
    "    lineHeight = textHeight + size[1] + margin\n",
    "    x = image.shape[1] - margin - textWidth\n",
    "    y = margin + size[0][1] + line * lineHeight\n",
    "    #cv2.putText(image, text, (x, y), font, font_scale, color, thickness)\n",
    "    return textWidth,textHeight,lineHeight\n",
    "k,l,m = GetInfo(image,text,line)    #??????\n",
    "print(k)\n",
    "print(l)\n",
    "print(m)\n",
    "type(k)"
   ]
  },
  {
   "cell_type": "code",
   "execution_count": 9,
   "metadata": {},
   "outputs": [
    {
     "name": "stdout",
     "output_type": "stream",
     "text": [
      "Setup phase\n",
      "LEARN FROM \n",
      "YESTERDAY,‘\n",
      "LIVE FOR\n",
      "TODAY,\n",
      "HOPE FOR\n",
      "TOMORROW.\n",
      "Finished\n",
      "574\n"
     ]
    },
    {
     "data": {
      "text/plain": [
       "int"
      ]
     },
     "execution_count": 9,
     "metadata": {},
     "output_type": "execute_result"
    }
   ],
   "source": [
    "from astropy.time import Time\n",
    "import glob\n",
    "import os\n",
    "import cv2\n",
    "import numpy as np\n",
    "import numpy as np\n",
    "import pytesseract\n",
    "from PIL import Image\n",
    "from pytesseract import image_to_string\n",
    "\n",
    "\n",
    "src_path = \"C:\\\\Users\\\\soukh\\\\2. OPENCV\"\n",
    "pytesseract.pytesseract.tesseract_cmd = r'C:\\Users\\soukh\\OneDrive\\Documents\\T\\Tesseract-OCR\\tesseract.exe'\n",
    "def get_string(src_path):\n",
    "    image = cv2.imread('quotes.png')\n",
    "    image = cv2.cvtColor(image, cv2.COLOR_BGR2GRAY)\n",
    "    kernel = np.ones((1, 1), np.uint8)\n",
    "    image = cv2.dilate(image, kernel, iterations=1)\n",
    "    image = cv2.erode(image, kernel, iterations=1)\n",
    "    cv2.imwrite(src_path + \"cleaned.png\", image)\n",
    "    image = cv2.adaptiveThreshold(image, 255, cv2.ADAPTIVE_THRESH_GAUSSIAN_C, cv2.THRESH_BINARY, 31, 2)\n",
    "    cv2.imwrite(src_path + \"thres.png\", image)\n",
    "    result = pytesseract.image_to_string(Image.open(src_path + \"thres.png\"))\n",
    "    #os.remove(temp)\n",
    "\n",
    "    return result\n",
    "print('Setup phase')\n",
    "print(get_string(src_path + \"res.jpg\") )\n",
    "print(\"Finished\")\n",
    "\n",
    "res=get_string(src_path)\n",
    "line=1\n",
    "image = cv2.imread('quotes.png')\n",
    "text=res\n",
    "def GetInfo(image, text, line):\n",
    "    font = cv2.FONT_HERSHEY_PLAIN   # assume font to be constant\n",
    "    fontScale = 1\n",
    "   #     margin = 5\n",
    "    thickness = 2\n",
    "   #     color = (255, 255, 255)\n",
    "    size = cv2.getTextSize(text, font, fontScale, thickness)\n",
    "    textWidth = size[0][0]\n",
    "    textHeight = size[0][1]\n",
    "#line_height = text_height + size[1] + margin\n",
    "       # x = image.shape[1] - margin - text_width\n",
    "        #y = margin + size[0][1] + line * line_height\n",
    "        #cv2.putText(image, text, (x, y), font, font_scale, color, thickness)\n",
    "    return textWidth\n",
    "k = GetInfo(image,text,line)\n",
    "print(k)\n",
    "type(k)"
   ]
  },
  {
   "cell_type": "code",
   "execution_count": 12,
   "metadata": {},
   "outputs": [
    {
     "name": "stdout",
     "output_type": "stream",
     "text": [
      "Setup phase\n",
      "LEARN FROM \n",
      "YESTERDAY,‘\n",
      "LIVE FOR\n",
      "TODAY,\n",
      "HOPE FOR\n",
      "TOMORROW.\n",
      "Finished\n",
      "574\n"
     ]
    },
    {
     "data": {
      "text/plain": [
       "int"
      ]
     },
     "execution_count": 12,
     "metadata": {},
     "output_type": "execute_result"
    }
   ],
   "source": [
    "from astropy.time import Time\n",
    "import glob\n",
    "import os\n",
    "import cv2\n",
    "import numpy as np\n",
    "import numpy as np\n",
    "import pytesseract\n",
    "from PIL import Image\n",
    "from pytesseract import image_to_string\n",
    "\n",
    "\n",
    "src_path = \"C:\\\\Users\\\\soukh\\\\2. OPENCV\"\n",
    "pytesseract.pytesseract.tesseract_cmd = r'C:\\Users\\soukh\\OneDrive\\Documents\\T\\Tesseract-OCR\\tesseract.exe'\n",
    "def get_string(src_path):\n",
    "    image = cv2.imread('quotes.png')\n",
    "    image = cv2.cvtColor(image, cv2.COLOR_BGR2GRAY)\n",
    "    kernel = np.ones((1, 1), np.uint8)\n",
    "    image = cv2.dilate(image, kernel, iterations=1)\n",
    "    image = cv2.erode(image, kernel, iterations=1)\n",
    "    cv2.imwrite(src_path + \"cleaned.png\", image)\n",
    "    image = cv2.adaptiveThreshold(image, 255, cv2.ADAPTIVE_THRESH_GAUSSIAN_C, cv2.THRESH_BINARY, 31, 2)\n",
    "    cv2.imwrite(src_path + \"thres.png\", image)\n",
    "    result = pytesseract.image_to_string(Image.open(src_path + \"thres.png\"))\n",
    "    #os.remove(temp)\n",
    "\n",
    "    return result\n",
    "print('Setup phase')\n",
    "print(get_string(src_path + \"res.jpg\") )\n",
    "print(\"Finished\")\n",
    "\n",
    "res=get_string(src_path)\n",
    "line=1\n",
    "image = cv2.imread('quotes.png')\n",
    "text=res\n",
    "def GetInfo(image, text, line):\n",
    "    font = cv2.FONT_HERSHEY_PLAIN\n",
    "    fontScale = 1\n",
    "   #     margin = 5\n",
    "    thickness = 2\n",
    "   #     color = (255, 255, 255)\n",
    "    size = cv2.getTextSize(text, font, fontScale, thickness)\n",
    "    textWidth = size[0][0]\n",
    "    textHeight = size[0][1]\n",
    "#line_height = text_height + size[1] + margin\n",
    "       # (not working)x = image.shape[1] - margin - text_width\n",
    "#(try this) y = margin + size[0][1] + line * line_height\n",
    "        #cv2.putText(image, text, (x, y), font, font_scale, color, thickness)\n",
    "    return textWidth\n",
    "k = GetInfo(image,text,line)\n",
    "print(k)\n",
    "type(k)"
   ]
  },
  {
   "cell_type": "code",
   "execution_count": null,
   "metadata": {},
   "outputs": [],
   "source": []
  }
 ],
 "metadata": {
  "kernelspec": {
   "display_name": "Python 3",
   "language": "python",
   "name": "python3"
  },
  "language_info": {
   "codemirror_mode": {
    "name": "ipython",
    "version": 3
   },
   "file_extension": ".py",
   "mimetype": "text/x-python",
   "name": "python",
   "nbconvert_exporter": "python",
   "pygments_lexer": "ipython3",
   "version": "3.7.1"
  }
 },
 "nbformat": 4,
 "nbformat_minor": 2
}
