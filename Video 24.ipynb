{
 "cells": [
  {
   "cell_type": "code",
   "execution_count": 2,
   "metadata": {},
   "outputs": [],
   "source": [
    "import numpy as np\n",
    "import cv2"
   ]
  },
  {
   "cell_type": "code",
   "execution_count": null,
   "metadata": {},
   "outputs": [],
   "source": [
    "img = cv2.imread(\"faces.png\", 1)\n",
    "hsv = cv2.cvtColor(img, cv2.COLOR_BGR2HSV)\n",
    "h = hsv [:, :, 0]\n",
    "s = hsv [:, :, 1]\n",
    "v = hsv [:, :, 2]\n",
    "\n",
    "hsv_split = np.concatenate((h,s,v), axis = 1)\n",
    "cv2.imshow(\"split hsv\",hsv_split )\n",
    "\n",
    "ret, min_sat = cv2.threshold(s, 40,255, cv2.THRESH_BINARY)\n",
    "cv2.imshow(\"sat filter\", min_sat)\n",
    "\n",
    "ret, max_hue = cv2.threshold(s, 15,255, cv2.THRESH_BINARY_INV)\n",
    "cv2.imshow(\"sat filter\", max_hue)\n",
    "\n",
    "final = cv2.bitwise_and(min_sat,max_hue)\n",
    "cv2.imshow(\"final\", final)\n",
    "cv2.imshow(\"original\", img)\n",
    "\n",
    "#color = cv2.imread(\"people.png\",1)3\n",
    "#cv2.imshow(\"Image\",color)\n",
    "cv2.waitKey(0)\n",
    "cv2.destroyAllWindows()\n"
   ]
  },
  {
   "cell_type": "code",
   "execution_count": null,
   "metadata": {},
   "outputs": [],
   "source": []
  },
  {
   "cell_type": "code",
   "execution_count": null,
   "metadata": {},
   "outputs": [],
   "source": []
  }
 ],
 "metadata": {
  "kernelspec": {
   "display_name": "Python 3",
   "language": "python",
   "name": "python3"
  },
  "language_info": {
   "codemirror_mode": {
    "name": "ipython",
    "version": 3
   },
   "file_extension": ".py",
   "mimetype": "text/x-python",
   "name": "python",
   "nbconvert_exporter": "python",
   "pygments_lexer": "ipython3",
   "version": "3.7.1"
  }
 },
 "nbformat": 4,
 "nbformat_minor": 2
}
