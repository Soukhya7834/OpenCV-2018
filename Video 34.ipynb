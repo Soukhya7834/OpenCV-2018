{
 "cells": [
  {
   "cell_type": "markdown",
   "metadata": {},
   "source": []
  },
  {
   "cell_type": "code",
   "execution_count": 1,
   "metadata": {},
   "outputs": [],
   "source": [
    "import numpy as np\n",
    "import cv2"
   ]
  },
  {
   "cell_type": "code",
   "execution_count": 2,
   "metadata": {},
   "outputs": [],
   "source": [
    "template = cv2.imread(\"template.png\", 0)\n",
    "cv2.imshow(\"template\", template)\n",
    "\n",
    "cv2.waitKey(0)\n",
    "cv2.destroyAllWindows()\n",
    "\n",
    "\n",
    "games = cv2.imread(\"games.png\", 0)\n",
    "cv2.imshow(\"games\", games)\n",
    "\n",
    "cv2.waitKey(0)\n",
    "cv2.destroyAllWindows()\n",
    "\n",
    "\n",
    "#template = cv2.imread(\"template.png\", 0)\n",
    "#cv2.imshow(\"frame\", frame)"
   ]
  },
  {
   "cell_type": "code",
   "execution_count": null,
   "metadata": {},
   "outputs": [
    {
     "name": "stdout",
     "output_type": "stream",
     "text": [
      "0.9999992847442627 (93, 120)\n"
     ]
    }
   ],
   "source": [
    "result = cv2.matchTemplate(games, template, cv2.TM_CCOEFF_NORMED)\n",
    "                           \n",
    "min_val, max_val, min_loc, max_loc = cv2.minMaxLoc(result)                           \n",
    "print(max_val, max_loc)\n",
    "cv2.circle(result, max_loc, 15, 255, 2)\n",
    "cv2.imshow(\"Matching\", result)\n",
    "\n",
    "cv2.waitKey(0)\n",
    "cv2.destroyAllWindows()\n"
   ]
  },
  {
   "cell_type": "code",
   "execution_count": null,
   "metadata": {},
   "outputs": [],
   "source": []
  }
 ],
 "metadata": {
  "kernelspec": {
   "display_name": "Python 3",
   "language": "python",
   "name": "python3"
  },
  "language_info": {
   "codemirror_mode": {
    "name": "ipython",
    "version": 3
   },
   "file_extension": ".py",
   "mimetype": "text/x-python",
   "name": "python",
   "nbconvert_exporter": "python",
   "pygments_lexer": "ipython3",
   "version": "3.7.1"
  }
 },
 "nbformat": 4,
 "nbformat_minor": 2
}
