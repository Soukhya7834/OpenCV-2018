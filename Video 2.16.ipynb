{
 "cells": [
  {
   "cell_type": "code",
   "execution_count": null,
   "metadata": {},
   "outputs": [],
   "source": []
  },
  {
   "cell_type": "code",
   "execution_count": 8,
   "metadata": {},
   "outputs": [],
   "source": [
    "import numpy as np\n",
    "import cv2"
   ]
  },
  {
   "cell_type": "code",
   "execution_count": 9,
   "metadata": {},
   "outputs": [],
   "source": [
    "img = np.zeros((512, 512,3), np.uint8)\n",
    "cv2.line(img, (0,0),(511,511), (255,127,0),5)\n",
    "cv2.imshow(\"blue line\", img)\n",
    "\n",
    "cv2.waitKey(0)\n",
    "cv2.destroyAllWindows()"
   ]
  },
  {
   "cell_type": "code",
   "execution_count": 10,
   "metadata": {},
   "outputs": [],
   "source": [
    "img = np.zeros((512, 512,3), np.uint8)\n",
    "cv2.rectangle(img,(100,100),(300,300),(127,50, 127), 8)\n",
    "cv2.imshow(\"rectangle\", img)\n",
    "\n",
    "cv2.waitKey(0)\n",
    "cv2.destroyAllWindows()"
   ]
  },
  {
   "cell_type": "code",
   "execution_count": 11,
   "metadata": {},
   "outputs": [],
   "source": [
    "img = np.zeros((512, 512,3), np.uint8)\n",
    "cv2.circle(img,(350,350), 100, (15,75,50), -1)\n",
    "#image, center, radius, color, fill\n",
    "cv2.imshow(\"blue line\", img)\n",
    "\n",
    "cv2.waitKey(0)\n",
    "cv2.destroyAllWindows()"
   ]
  },
  {
   "cell_type": "code",
   "execution_count": null,
   "metadata": {},
   "outputs": [],
   "source": [
    "img = np.zeros((512, 512, 3), np.uint8)\n",
    "pts = np.array([[10,150], [400,50], [90,200], [50,500]], np.int32)\n",
    "pts  = pts.reshape((-1, 1,2))\n",
    "\n",
    "cv2.polylines(img,[pts], True, (0, 0,255), 3)\n",
    "cv2.imshow(\"POLYGON\", img)\n",
    "cv2.waitKey(0)\n",
    "cv2.destroyAllWindows()"
   ]
  },
  {
   "cell_type": "code",
   "execution_count": null,
   "metadata": {},
   "outputs": [],
   "source": []
  },
  {
   "cell_type": "code",
   "execution_count": null,
   "metadata": {},
   "outputs": [],
   "source": []
  }
 ],
 "metadata": {
  "kernelspec": {
   "display_name": "Python 3",
   "language": "python",
   "name": "python3"
  },
  "language_info": {
   "codemirror_mode": {
    "name": "ipython",
    "version": 3
   },
   "file_extension": ".py",
   "mimetype": "text/x-python",
   "name": "python",
   "nbconvert_exporter": "python",
   "pygments_lexer": "ipython3",
   "version": "3.7.1"
  }
 },
 "nbformat": 4,
 "nbformat_minor": 2
}
