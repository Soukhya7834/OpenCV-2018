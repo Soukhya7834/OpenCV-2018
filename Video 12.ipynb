{
 "cells": [
  {
   "cell_type": "code",
   "execution_count": null,
   "metadata": {},
   "outputs": [],
   "source": [
    "import numpy as np\n",
    "import cv2"
   ]
  },
  {
   "cell_type": "code",
   "execution_count": 3,
   "metadata": {},
   "outputs": [
    {
     "name": "stdout",
     "output_type": "stream",
     "text": [
      "[0]\n"
     ]
    }
   ],
   "source": [
    "black = np.zeros([150, 200,1], 'uint8')   #just creating a box\n",
    "cv2.imshow(\"Black\", black)\n",
    "print(black[0,0, :])"
   ]
  },
  {
   "cell_type": "code",
   "execution_count": 4,
   "metadata": {},
   "outputs": [
    {
     "data": {
      "text/plain": [
       "-1"
      ]
     },
     "execution_count": 4,
     "metadata": {},
     "output_type": "execute_result"
    }
   ],
   "source": [
    "cv2.waitKey(0)   #"
   ]
  },
  {
   "cell_type": "markdown",
   "metadata": {},
   "source": []
  },
  {
   "cell_type": "code",
   "execution_count": 5,
   "metadata": {},
   "outputs": [],
   "source": [
    "cv2.destroyAllWindows()   #make sure that user i/f will hang till we see"
   ]
  },
  {
   "cell_type": "code",
   "execution_count": 6,
   "metadata": {},
   "outputs": [
    {
     "name": "stdout",
     "output_type": "stream",
     "text": [
      " Volume in drive C has no label.\n",
      " Volume Serial Number is 3623-3D24\n",
      "\n",
      " Directory of C:\\Users\\soukh\n",
      "\n",
      "21/04/2019  01:56    <DIR>          .\n",
      "21/04/2019  01:56    <DIR>          ..\n",
      "28/03/2019  17:11    <DIR>          .anaconda\n",
      "21/04/2019  01:57    <DIR>          .conda\n",
      "20/04/2019  21:08                43 .condarc\n",
      "02/04/2019  19:46               126 .gitconfig\n",
      "18/04/2019  09:59    <DIR>          .idlerc\n",
      "21/04/2019  01:38    <DIR>          .ipynb_checkpoints\n",
      "28/03/2019  17:24    <DIR>          .ipython\n",
      "18/04/2019  11:40    <DIR>          .jupyter\n",
      "14/04/2019  16:56    <DIR>          .matplotlib\n",
      "20/04/2019  21:08    <DIR>          .spyder-py3\n",
      "17/04/2019  16:21    <DIR>          .vscode\n",
      "21/03/2019  19:46    <DIR>          3D Objects\n",
      "20/04/2019  21:59    <DIR>          Anaconda3\n",
      "14/03/2019  06:51    <DIR>          Contacts\n",
      "18/04/2019  15:08    <DIR>          Desktop\n",
      "12/02/2019  00:43    <DIR>          Documents\n",
      "21/04/2019  01:02    <DIR>          Downloads\n",
      "14/03/2019  06:51    <DIR>          Favorites\n",
      "20/04/2019  20:22    <DIR>          Google Drive\n",
      "19/04/2019  11:00         1,360,155 googleplaystore.csv\n",
      "19/04/2019  11:00         7,669,276 googleplaystore_user_reviews.csv\n",
      "21/04/2019  01:01            85,112 i3.png\n",
      "19/04/2019  11:00               165 license.txt\n",
      "14/03/2019  06:52    <DIR>          Links\n",
      "14/03/2019  06:51    <DIR>          Music\n",
      "20/04/2019  20:22    <DIR>          OneDrive\n",
      "21/04/2019  01:39             1,734 opencv1.ipynb\n",
      "21/04/2019  01:35             1,525 opencv2.ipynb\n",
      "09/02/2019  22:16    <DIR>          Pictures\n",
      "19/04/2019  12:05            15,851 playstore1.ipynb\n",
      "18/04/2019  15:00             1,916 plotly.ipynb\n",
      "14/03/2019  06:52    <DIR>          Saved Games\n",
      "14/03/2019  06:51    <DIR>          Searches\n",
      "14/04/2019  12:42    <DIR>          source\n",
      "21/04/2019  01:56             5,517 Untitled2.ipynb\n",
      "21/04/2019  01:31             7,312 video 11.ipynb\n",
      "17/04/2019  15:35    <DIR>          Videos\n",
      "              12 File(s)      9,148,732 bytes\n",
      "              27 Dir(s)  373,725,192,192 bytes free\n"
     ]
    }
   ],
   "source": [
    "ls"
   ]
  },
  {
   "cell_type": "code",
   "execution_count": null,
   "metadata": {},
   "outputs": [
    {
     "name": "stdout",
     "output_type": "stream",
     "text": [
      "[0]\n",
      "[1 1 1]\n",
      "[255   0   0]\n"
     ]
    }
   ],
   "source": [
    "black = np.zeros([150, 200,1], 'uint8')   #just creating a box\n",
    "cv2.imshow(\"Black\", black)\n",
    "print(black[0,0, :])\n",
    "\n",
    "ones  = np.ones([150,200,3], 'uint8')\n",
    "cv2.imshow(\"ones\", ones)\n",
    "print(ones[0, 0, :])\n",
    "\n",
    "white = np.ones([150,200,3], 'uint16')\n",
    "white = (2**16-1)\n",
    "cv2.imshow(\"white\", white)\n",
    "\n",
    "color = ones.copy()   #deep copy(not connected at all)\n",
    "color[:, :] = (255, 0, 0)\n",
    "cv2.imshow(\"Blue\", color)\n",
    "print(color[0,0,:])\n",
    "\n",
    "cv2.waitKey(0)\n",
    "cv2.destroyAllWindows()\n"
   ]
  },
  {
   "cell_type": "code",
   "execution_count": null,
   "metadata": {},
   "outputs": [],
   "source": [
    "ones  = np.ones([150,200,3], 'uint8')\n",
    "cv2.imshow(\"ones\", ones)\n",
    "print(ones[0, 0, :])\n",
    "\n",
    "cv2.waitKey(0)\n",
    "cv2.destroyAllWindows()"
   ]
  },
  {
   "cell_type": "code",
   "execution_count": null,
   "metadata": {},
   "outputs": [],
   "source": [
    "white = np.ones([150,200,3], 'uint16')\n",
    "white = (2**16-1)\n",
    "cv2.imshow(\"white\", white)\n",
    "\n",
    "cv2.waitKey(0)\n",
    "cv2.destroyAllWindows()"
   ]
  },
  {
   "cell_type": "code",
   "execution_count": null,
   "metadata": {},
   "outputs": [],
   "source": []
  }
 ],
 "metadata": {
  "kernelspec": {
   "display_name": "Python 3",
   "language": "python",
   "name": "python3"
  },
  "language_info": {
   "codemirror_mode": {
    "name": "ipython",
    "version": 3
   },
   "file_extension": ".py",
   "mimetype": "text/x-python",
   "name": "python",
   "nbconvert_exporter": "python",
   "pygments_lexer": "ipython3",
   "version": "3.7.1"
  }
 },
 "nbformat": 4,
 "nbformat_minor": 2
}
